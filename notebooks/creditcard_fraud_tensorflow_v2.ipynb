{
 "cells": [
  {
   "cell_type": "markdown",
   "id": "9db08e1d",
   "metadata": {},
   "source": [
    "# Credit Card Fraud Detection — TensorFlow Baseline\n",
    "**Purpose:** Train a simple neural network to detect fraud using the full dataset (~250k rows).  \n",
    "We will handle imbalance using class weighting and evaluate with PR AUC and ROC AUC."
   ]
  },
  {
   "cell_type": "code",
   "execution_count": null,
   "id": "6da08e8a",
   "metadata": {},
   "outputs": [],
   "source": [
    "# Install TensorFlow and imbalanced-learn (if not already installed)\n",
    "%pip install -q tensorflow imbalanced-learn\n",
    "\n",
    "# Imports\n",
    "import pandas as pd\n",
    "import numpy as np\n",
    "import matplotlib.pyplot as plt\n",
    "import seaborn as sns\n",
    "\n",
    "from sklearn.model_selection import train_test_split\n",
    "from sklearn.preprocessing import StandardScaler\n",
    "from sklearn.metrics import roc_auc_score, average_precision_score, classification_report\n",
    "\n",
    "import tensorflow as tf\n",
    "from tensorflow.keras.models import Sequential\n",
    "from tensorflow.keras.layers import Dense, Dropout\n",
    "from tensorflow.keras.optimizers import Adam"
   ]
  },
  {
   "cell_type": "markdown",
   "id": "e39cff18",
   "metadata": {},
   "source": [
    "We import standard libraries for data handling and visualization, \n",
    "plus TensorFlow/Keras for building our neural network. \n",
    "`roc_auc_score` and `average_precision_score` will help evaluate the model on imbalanced data.\n"
   ]
  },
  {
   "cell_type": "code",
   "execution_count": 4,
   "id": "35609d92-92e9-4fce-98e6-c913b7a55cff",
   "metadata": {},
   "outputs": [
    {
     "name": "stdout",
     "output_type": "stream",
     "text": [
      "Dataset shape: (284807, 31)\n",
      "Class distribution:\n",
      " Class\n",
      "0    284315\n",
      "1       492\n",
      "Name: count, dtype: int64\n"
     ]
    }
   ],
   "source": [
    "# Load dataset from S3\n",
    "bucket = \"myfraudcreditcardbucket\"\n",
    "file_name = \"creditcard.csv\"\n",
    "s3_path = f\"s3://{bucket}/{file_name}\"\n",
    "\n",
    "df = pd.read_csv(s3_path)\n",
    "\n",
    "print(\"Dataset shape:\", df.shape)\n",
    "print(\"Class distribution:\\n\", df[\"Class\"].value_counts())"
   ]
  },
  {
   "cell_type": "code",
   "execution_count": 5,
   "id": "e57df1cf-f3f9-4534-886c-77610bdeafff",
   "metadata": {},
   "outputs": [
    {
     "name": "stdout",
     "output_type": "stream",
     "text": [
      "(284807, 31)\n",
      "   Time        V1        V2        V3        V4        V5        V6        V7  \\\n",
      "0   0.0 -1.359807 -0.072781  2.536347  1.378155 -0.338321  0.462388  0.239599   \n",
      "1   0.0  1.191857  0.266151  0.166480  0.448154  0.060018 -0.082361 -0.078803   \n",
      "2   1.0 -1.358354 -1.340163  1.773209  0.379780 -0.503198  1.800499  0.791461   \n",
      "3   1.0 -0.966272 -0.185226  1.792993 -0.863291 -0.010309  1.247203  0.237609   \n",
      "4   2.0 -1.158233  0.877737  1.548718  0.403034 -0.407193  0.095921  0.592941   \n",
      "\n",
      "         V8        V9  ...       V21       V22       V23       V24       V25  \\\n",
      "0  0.098698  0.363787  ... -0.018307  0.277838 -0.110474  0.066928  0.128539   \n",
      "1  0.085102 -0.255425  ... -0.225775 -0.638672  0.101288 -0.339846  0.167170   \n",
      "2  0.247676 -1.514654  ...  0.247998  0.771679  0.909412 -0.689281 -0.327642   \n",
      "3  0.377436 -1.387024  ... -0.108300  0.005274 -0.190321 -1.175575  0.647376   \n",
      "4 -0.270533  0.817739  ... -0.009431  0.798278 -0.137458  0.141267 -0.206010   \n",
      "\n",
      "        V26       V27       V28  Amount  Class  \n",
      "0 -0.189115  0.133558 -0.021053  149.62      0  \n",
      "1  0.125895 -0.008983  0.014724    2.69      0  \n",
      "2 -0.139097 -0.055353 -0.059752  378.66      0  \n",
      "3 -0.221929  0.062723  0.061458  123.50      0  \n",
      "4  0.502292  0.219422  0.215153   69.99      0  \n",
      "\n",
      "[5 rows x 31 columns]\n"
     ]
    }
   ],
   "source": [
    "df = pd.read_csv(s3_path)\n",
    "print(df.shape)\n",
    "print(df.head())"
   ]
  },
  {
   "cell_type": "code",
   "execution_count": null,
   "id": "272b6142",
   "metadata": {},
   "outputs": [],
   "source": [
    "# Load dataset (assumes CSV is in the same folder)\n",
    "df = pd.read_csv(\"creditcard.csv\")\n",
    "df.shape, df['Class'].value_counts(), df['Class'].value_counts(normalize=True)"
   ]
  },
  {
   "cell_type": "markdown",
   "id": "adc1586c",
   "metadata": {},
   "source": [
    "We load the CSV and check: \n",
    "- number of rows and columns\n",
    "- class counts\n",
    "- fraction of fraud (Class=1) vs legit (Class=0)\n"
   ]
  },
  {
   "cell_type": "code",
   "execution_count": 6,
   "id": "40e011b9",
   "metadata": {},
   "outputs": [
    {
     "data": {
      "text/html": [
       "<div>\n",
       "<style scoped>\n",
       "    .dataframe tbody tr th:only-of-type {\n",
       "        vertical-align: middle;\n",
       "    }\n",
       "\n",
       "    .dataframe tbody tr th {\n",
       "        vertical-align: top;\n",
       "    }\n",
       "\n",
       "    .dataframe thead th {\n",
       "        text-align: right;\n",
       "    }\n",
       "</style>\n",
       "<table border=\"1\" class=\"dataframe\">\n",
       "  <thead>\n",
       "    <tr style=\"text-align: right;\">\n",
       "      <th></th>\n",
       "      <th>Time</th>\n",
       "      <th>V1</th>\n",
       "      <th>V2</th>\n",
       "      <th>V3</th>\n",
       "      <th>V4</th>\n",
       "      <th>V5</th>\n",
       "      <th>V6</th>\n",
       "      <th>V7</th>\n",
       "      <th>V8</th>\n",
       "      <th>V9</th>\n",
       "      <th>...</th>\n",
       "      <th>V21</th>\n",
       "      <th>V22</th>\n",
       "      <th>V23</th>\n",
       "      <th>V24</th>\n",
       "      <th>V25</th>\n",
       "      <th>V26</th>\n",
       "      <th>V27</th>\n",
       "      <th>V28</th>\n",
       "      <th>Amount</th>\n",
       "      <th>Class</th>\n",
       "    </tr>\n",
       "  </thead>\n",
       "  <tbody>\n",
       "    <tr>\n",
       "      <th>0</th>\n",
       "      <td>0.0</td>\n",
       "      <td>-1.359807</td>\n",
       "      <td>-0.072781</td>\n",
       "      <td>2.536347</td>\n",
       "      <td>1.378155</td>\n",
       "      <td>-0.338321</td>\n",
       "      <td>0.462388</td>\n",
       "      <td>0.239599</td>\n",
       "      <td>0.098698</td>\n",
       "      <td>0.363787</td>\n",
       "      <td>...</td>\n",
       "      <td>-0.018307</td>\n",
       "      <td>0.277838</td>\n",
       "      <td>-0.110474</td>\n",
       "      <td>0.066928</td>\n",
       "      <td>0.128539</td>\n",
       "      <td>-0.189115</td>\n",
       "      <td>0.133558</td>\n",
       "      <td>-0.021053</td>\n",
       "      <td>149.62</td>\n",
       "      <td>0</td>\n",
       "    </tr>\n",
       "    <tr>\n",
       "      <th>1</th>\n",
       "      <td>0.0</td>\n",
       "      <td>1.191857</td>\n",
       "      <td>0.266151</td>\n",
       "      <td>0.166480</td>\n",
       "      <td>0.448154</td>\n",
       "      <td>0.060018</td>\n",
       "      <td>-0.082361</td>\n",
       "      <td>-0.078803</td>\n",
       "      <td>0.085102</td>\n",
       "      <td>-0.255425</td>\n",
       "      <td>...</td>\n",
       "      <td>-0.225775</td>\n",
       "      <td>-0.638672</td>\n",
       "      <td>0.101288</td>\n",
       "      <td>-0.339846</td>\n",
       "      <td>0.167170</td>\n",
       "      <td>0.125895</td>\n",
       "      <td>-0.008983</td>\n",
       "      <td>0.014724</td>\n",
       "      <td>2.69</td>\n",
       "      <td>0</td>\n",
       "    </tr>\n",
       "    <tr>\n",
       "      <th>2</th>\n",
       "      <td>1.0</td>\n",
       "      <td>-1.358354</td>\n",
       "      <td>-1.340163</td>\n",
       "      <td>1.773209</td>\n",
       "      <td>0.379780</td>\n",
       "      <td>-0.503198</td>\n",
       "      <td>1.800499</td>\n",
       "      <td>0.791461</td>\n",
       "      <td>0.247676</td>\n",
       "      <td>-1.514654</td>\n",
       "      <td>...</td>\n",
       "      <td>0.247998</td>\n",
       "      <td>0.771679</td>\n",
       "      <td>0.909412</td>\n",
       "      <td>-0.689281</td>\n",
       "      <td>-0.327642</td>\n",
       "      <td>-0.139097</td>\n",
       "      <td>-0.055353</td>\n",
       "      <td>-0.059752</td>\n",
       "      <td>378.66</td>\n",
       "      <td>0</td>\n",
       "    </tr>\n",
       "    <tr>\n",
       "      <th>3</th>\n",
       "      <td>1.0</td>\n",
       "      <td>-0.966272</td>\n",
       "      <td>-0.185226</td>\n",
       "      <td>1.792993</td>\n",
       "      <td>-0.863291</td>\n",
       "      <td>-0.010309</td>\n",
       "      <td>1.247203</td>\n",
       "      <td>0.237609</td>\n",
       "      <td>0.377436</td>\n",
       "      <td>-1.387024</td>\n",
       "      <td>...</td>\n",
       "      <td>-0.108300</td>\n",
       "      <td>0.005274</td>\n",
       "      <td>-0.190321</td>\n",
       "      <td>-1.175575</td>\n",
       "      <td>0.647376</td>\n",
       "      <td>-0.221929</td>\n",
       "      <td>0.062723</td>\n",
       "      <td>0.061458</td>\n",
       "      <td>123.50</td>\n",
       "      <td>0</td>\n",
       "    </tr>\n",
       "    <tr>\n",
       "      <th>4</th>\n",
       "      <td>2.0</td>\n",
       "      <td>-1.158233</td>\n",
       "      <td>0.877737</td>\n",
       "      <td>1.548718</td>\n",
       "      <td>0.403034</td>\n",
       "      <td>-0.407193</td>\n",
       "      <td>0.095921</td>\n",
       "      <td>0.592941</td>\n",
       "      <td>-0.270533</td>\n",
       "      <td>0.817739</td>\n",
       "      <td>...</td>\n",
       "      <td>-0.009431</td>\n",
       "      <td>0.798278</td>\n",
       "      <td>-0.137458</td>\n",
       "      <td>0.141267</td>\n",
       "      <td>-0.206010</td>\n",
       "      <td>0.502292</td>\n",
       "      <td>0.219422</td>\n",
       "      <td>0.215153</td>\n",
       "      <td>69.99</td>\n",
       "      <td>0</td>\n",
       "    </tr>\n",
       "  </tbody>\n",
       "</table>\n",
       "<p>5 rows × 31 columns</p>\n",
       "</div>"
      ],
      "text/plain": [
       "   Time        V1        V2        V3        V4        V5        V6        V7  \\\n",
       "0   0.0 -1.359807 -0.072781  2.536347  1.378155 -0.338321  0.462388  0.239599   \n",
       "1   0.0  1.191857  0.266151  0.166480  0.448154  0.060018 -0.082361 -0.078803   \n",
       "2   1.0 -1.358354 -1.340163  1.773209  0.379780 -0.503198  1.800499  0.791461   \n",
       "3   1.0 -0.966272 -0.185226  1.792993 -0.863291 -0.010309  1.247203  0.237609   \n",
       "4   2.0 -1.158233  0.877737  1.548718  0.403034 -0.407193  0.095921  0.592941   \n",
       "\n",
       "         V8        V9  ...       V21       V22       V23       V24       V25  \\\n",
       "0  0.098698  0.363787  ... -0.018307  0.277838 -0.110474  0.066928  0.128539   \n",
       "1  0.085102 -0.255425  ... -0.225775 -0.638672  0.101288 -0.339846  0.167170   \n",
       "2  0.247676 -1.514654  ...  0.247998  0.771679  0.909412 -0.689281 -0.327642   \n",
       "3  0.377436 -1.387024  ... -0.108300  0.005274 -0.190321 -1.175575  0.647376   \n",
       "4 -0.270533  0.817739  ... -0.009431  0.798278 -0.137458  0.141267 -0.206010   \n",
       "\n",
       "        V26       V27       V28  Amount  Class  \n",
       "0 -0.189115  0.133558 -0.021053  149.62      0  \n",
       "1  0.125895 -0.008983  0.014724    2.69      0  \n",
       "2 -0.139097 -0.055353 -0.059752  378.66      0  \n",
       "3 -0.221929  0.062723  0.061458  123.50      0  \n",
       "4  0.502292  0.219422  0.215153   69.99      0  \n",
       "\n",
       "[5 rows x 31 columns]"
      ]
     },
     "metadata": {},
     "output_type": "display_data"
    },
    {
     "data": {
      "image/png": "[encoded data removed]",
      "text/plain": [
       "<Figure size 500x300 with 1 Axes>"
      ]
     },
     "metadata": {},
     "output_type": "display_data"
    }
   ],
   "source": [
    "# Preview first few rows\n",
    "display(df.head())\n",
    "\n",
    "# Class distribution plot\n",
    "plt.figure(figsize=(5,3))\n",
    "sns.barplot(x=df['Class'].value_counts().index, y=df['Class'].value_counts().values)\n",
    "plt.xticks([0,1], ['Legit (0)', 'Fraud (1)'])\n",
    "plt.title('Class counts'); plt.show()"
   ]
  },
  {
   "cell_type": "markdown",
   "id": "dba21bec",
   "metadata": {},
   "source": [
    "We visually confirm the extreme imbalance: fraud is a tiny fraction (~0.17%). \n",
    "This is why metrics like PR AUC and recall are more important than accuracy."
   ]
  },
  {
   "cell_type": "code",
   "execution_count": 7,
   "id": "f7806208",
   "metadata": {},
   "outputs": [],
   "source": [
    "# Features & target\n",
    "X = df.drop(columns=['Class'])\n",
    "y = df['Class']\n",
    "\n",
    "# Split data (stratified to preserve class ratio)\n",
    "X_train, X_test, y_train, y_test = train_test_split(\n",
    "    X, y, test_size=0.2, stratify=y, random_state=42\n",
    ")"
   ]
  },
  {
   "cell_type": "markdown",
   "id": "144d7dbb",
   "metadata": {},
   "source": [
    "We split 80/20 for training/testing, \n",
    "using `stratify=y` to preserve the extremely rare fraud class ratio in both sets."
   ]
  },
  {
   "cell_type": "code",
   "execution_count": 8,
   "id": "dfa878fc",
   "metadata": {},
   "outputs": [],
   "source": [
    "# Only scale 'Amount' and 'Time'; V1–V28 are already PCA-transformed\n",
    "scaler = StandardScaler()\n",
    "X_train[['Time', 'Amount']] = scaler.fit_transform(X_train[['Time', 'Amount']])\n",
    "X_test[['Time', 'Amount']] = scaler.transform(X_test[['Time', 'Amount']])"
   ]
  },
  {
   "cell_type": "markdown",
   "id": "0923f8d4",
   "metadata": {},
   "source": [
    "Neural networks perform better when numeric features are roughly on the same scale. \n",
    "We scale only 'Time' and 'Amount' because V1–V28 are already PCA components (roughly normalized)."
   ]
  },
  {
   "cell_type": "code",
   "execution_count": 9,
   "id": "c6fd0da8",
   "metadata": {},
   "outputs": [
    {
     "name": "stdout",
     "output_type": "stream",
     "text": [
      "Model: \"sequential\"\n",
      "_________________________________________________________________\n",
      " Layer (type)                Output Shape              Param #   \n",
      "=================================================================\n",
      " dense (Dense)               (None, 32)                992       \n",
      "                                                                 \n",
      " dropout (Dropout)           (None, 32)                0         \n",
      "                                                                 \n",
      " dense_1 (Dense)             (None, 16)                528       \n",
      "                                                                 \n",
      " dropout_1 (Dropout)         (None, 16)                0         \n",
      "                                                                 \n",
      " dense_2 (Dense)             (None, 1)                 17        \n",
      "                                                                 \n",
      "=================================================================\n",
      "Total params: 1537 (6.00 KB)\n",
      "Trainable params: 1537 (6.00 KB)\n",
      "Non-trainable params: 0 (0.00 Byte)\n",
      "_________________________________________________________________\n"
     ]
    },
    {
     "name": "stderr",
     "output_type": "stream",
     "text": [
      "2025-09-20 10:12:51.579362: E external/local_xla/xla/stream_executor/cuda/cuda_driver.cc:282] failed call to cuInit: CUDA_ERROR_NO_DEVICE: no CUDA-capable device is detected\n"
     ]
    }
   ],
   "source": [
    "# Simple fully connected network\n",
    "model = Sequential([\n",
    "    Dense(32, input_dim=X_train.shape[1], activation='relu'),\n",
    "    Dropout(0.2),\n",
    "    Dense(16, activation='relu'),\n",
    "    Dropout(0.2),\n",
    "    Dense(1, activation='sigmoid')  # binary output\n",
    "])\n",
    "\n",
    "model.compile(optimizer=Adam(learning_rate=0.001),\n",
    "              loss='binary_crossentropy',\n",
    "              metrics=[tf.keras.metrics.AUC(name='auc')])\n",
    "model.summary()"
   ]
  },
  {
   "cell_type": "markdown",
   "id": "89850346",
   "metadata": {},
   "source": [
    "(The CUDA error above just means TensorFlow didn’t find a GPU on my environment (likely running CPU-only), and my model will still run but just slower a bit so I will ignore this.)\n",
    "\n",
    "In this step, we design a simple feed-forward neural network for our credit card fraud detection task. Here's why we made each choice:\n",
    "\n",
    "- **Dense layers with ReLU activation (`relu`)**:  \n",
    "  ReLU (Rectified Linear Unit) is the most common activation function for hidden layers because it helps the network learn complex, non-linear patterns while avoiding problems like vanishing gradients that occur with older functions (e.g., sigmoid, tanh). ReLU keeps training efficient and effective.  \n",
    "\n",
    "- **Output layer with sigmoid activation**:  \n",
    "  Since this is a binary classification problem (fraud vs. non-fraud), we use `sigmoid` to output probabilities between 0 and 1.  \n",
    "\n",
    "- **Loss function (`binary_crossentropy`)**:  \n",
    "  This is the standard loss for binary classification. It measures the difference between predicted probabilities and actual labels (fraud = 1, not fraud = 0). Minimizing this loss helps the model improve its probability predictions.  \n",
    "\n",
    "- **Optimizer (Adam, learning rate = 0.001)**:  \n",
    "  Adam is widely used because it adapts the learning rate for each parameter automatically, combining the strengths of momentum and RMSprop optimizers. The default learning rate of **0.001** is a good starting point—it’s small enough to ensure stable convergence but fast enough to make progress during training. If training is too slow or unstable, this value can be tuned.  \n",
    "\n",
    "- **Metrics (`accuracy`, `AUC`, `Precision`, `Recall`)**:  \n",
    "  - `accuracy` gives the overall correctness, but can be misleading with imbalanced datasets.  \n",
    "  - `AUC` (Area Under ROC Curve) measures the model’s ability to distinguish between fraud and non-fraud across thresholds.  \n",
    "  - `precision` tells us how many of the transactions predicted as fraud are truly fraud.  \n",
    "  - `recall` tells us how many of the actual frauds were correctly detected.  \n",
    "  These metrics provide a balanced view of performance beyond just accuracy, which is critical in fraud detection where fraud cases are rare.  \n",
    "\n",
    "  We also create a small dense network:\n",
    "- 32 → 16 neurons in hidden layers\n",
    "- Dropout 20% to reduce overfitting\n",
    "- Sigmoid output for binary classification\n",
    "- Use AUC as a metric for evaluation during training\n"
   ]
  },
  {
   "cell_type": "code",
   "execution_count": 10,
   "id": "73c3982a",
   "metadata": {},
   "outputs": [
    {
     "name": "stdout",
     "output_type": "stream",
     "text": [
      "Class weights: {0: 0.5008661206149896, 1: 289.14340101522845}\n"
     ]
    }
   ],
   "source": [
    "# Compute class weights: inverse of class frequency\n",
    "from sklearn.utils import class_weight\n",
    "\n",
    "class_weights = class_weight.compute_class_weight(\n",
    "    class_weight='balanced',\n",
    "    classes=np.unique(y_train),\n",
    "    y=y_train\n",
    ")\n",
    "class_weight_dict = {0: class_weights[0], 1: class_weights[1]}\n",
    "print(\"Class weights:\", class_weight_dict)"
   ]
  },
  {
   "cell_type": "markdown",
   "id": "be2e5c86",
   "metadata": {},
   "source": [
    "So, the calculated class weights show that fraud cases (1) are very rare compared to non-fraud cases (0).  \n",
    "To balance this, each fraud sample is weighted about 289 times more than a non-fraud sample, ensuring the model pays more attention to detecting fraud. This helps prevent the model from always predicting \"not fraud\" due to class imbalance.  \n"
   ]
  },
  {
   "cell_type": "code",
   "execution_count": 11,
   "id": "7fba7a56",
   "metadata": {},
   "outputs": [
    {
     "name": "stderr",
     "output_type": "stream",
     "text": [
      "2025-09-20 10:19:32.720097: W external/local_tsl/tsl/framework/cpu_allocator_impl.cc:83] Allocation of 43746240 exceeds 10% of free system memory.\n"
     ]
    },
    {
     "name": "stdout",
     "output_type": "stream",
     "text": [
      "Epoch 1/10\n",
      "90/90 [==============================] - 16s 10ms/step - loss: 1.0366 - auc: 0.5612 - val_loss: 0.5611 - val_auc: 0.8860\n",
      "Epoch 2/10\n",
      "90/90 [==============================] - 0s 5ms/step - loss: 0.4473 - auc: 0.8593 - val_loss: 0.4230 - val_auc: 0.9284\n",
      "Epoch 3/10\n",
      "90/90 [==============================] - 0s 5ms/step - loss: 0.3478 - auc: 0.9178 - val_loss: 0.3073 - val_auc: 0.9480\n",
      "Epoch 4/10\n",
      "90/90 [==============================] - 0s 5ms/step - loss: 0.2813 - auc: 0.9391 - val_loss: 0.2313 - val_auc: 0.9571\n",
      "Epoch 5/10\n",
      "90/90 [==============================] - 0s 5ms/step - loss: 0.2553 - auc: 0.9538 - val_loss: 0.1963 - val_auc: 0.9684\n",
      "Epoch 6/10\n",
      "90/90 [==============================] - 0s 5ms/step - loss: 0.2287 - auc: 0.9600 - val_loss: 0.1687 - val_auc: 0.9742\n",
      "Epoch 7/10\n",
      "90/90 [==============================] - 0s 5ms/step - loss: 0.2034 - auc: 0.9676 - val_loss: 0.1537 - val_auc: 0.9787\n",
      "Epoch 8/10\n",
      "90/90 [==============================] - 0s 5ms/step - loss: 0.1691 - auc: 0.9787 - val_loss: 0.1272 - val_auc: 0.9796\n",
      "Epoch 9/10\n",
      "90/90 [==============================] - 0s 5ms/step - loss: 0.1718 - auc: 0.9773 - val_loss: 0.1202 - val_auc: 0.9807\n",
      "Epoch 10/10\n",
      "90/90 [==============================] - 0s 5ms/step - loss: 0.1703 - auc: 0.9802 - val_loss: 0.1154 - val_auc: 0.9818\n"
     ]
    }
   ],
   "source": [
    "history = model.fit(\n",
    "    X_train, y_train,\n",
    "    validation_split=0.2,\n",
    "    epochs=10,          # start small; increase if needed\n",
    "    batch_size=2048,    # large batch works for big dataset\n",
    "    class_weight=class_weight_dict,\n",
    "    verbose=1\n",
    ")"
   ]
  },
  {
   "cell_type": "markdown",
   "id": "4025ca20",
   "metadata": {},
   "source": [
    "The model shows strong improvement across epochs. Validation AUC started at **0.8860** in epoch 1 and climbed to **0.9818** by epoch 10, indicating excellent ability to separate fraud from non-fraud. Meanwhile, the validation loss steadily decreased, suggesting the model is learning effectively without overfitting yet.  "
   ]
  },
  {
   "cell_type": "code",
   "execution_count": 13,
   "id": "e832a51d",
   "metadata": {},
   "outputs": [
    {
     "name": "stdout",
     "output_type": "stream",
     "text": [
      "1781/1781 [==============================] - 2s 1ms/step\n",
      "PR AUC: 0.6865493065868986\n",
      "ROC AUC: 0.9785571445798353\n",
      "              precision    recall  f1-score   support\n",
      "\n",
      "           0     0.9998    0.9774    0.9885     56864\n",
      "           1     0.0649    0.9082    0.1211        98\n",
      "\n",
      "    accuracy                         0.9773     56962\n",
      "   macro avg     0.5324    0.9428    0.5548     56962\n",
      "weighted avg     0.9982    0.9773    0.9870     56962\n",
      "\n"
     ]
    }
   ],
   "source": [
    "# Predict probabilities\n",
    "y_prob = model.predict(X_test).flatten()\n",
    "y_pred_05 = (y_prob > 0.5).astype(int)\n",
    "\n",
    "# Metrics\n",
    "print(\"PR AUC:\", average_precision_score(y_test, y_prob))\n",
    "print(\"ROC AUC:\", roc_auc_score(y_test, y_prob))\n",
    "print(classification_report(y_test, y_pred_05, digits=4))"
   ]
  },
  {
   "cell_type": "markdown",
   "id": "fc46f1d3",
   "metadata": {},
   "source": [
    "The model achieved an excellent **ROC AUC of 0.9786**, showing very strong overall discrimination between fraud and non-fraud cases. The **PR AUC of 0.687** is also solid, which is more meaningful for this imbalanced dataset since it focuses on fraud detection. Precision for fraud (class 1) is relatively low (**0.0649**), but recall is very high (**0.9082**), meaning the model successfully captures most fraud cases while producing more false positives. This tradeoff is typical in fraud detection and can be tuned further by adjusting the decision threshold.  "
   ]
  },
  {
   "cell_type": "code",
   "execution_count": 18,
   "id": "8e0bfcc6-4dc1-4750-9219-03b2b0aa7fb3",
   "metadata": {},
   "outputs": [],
   "source": [
    "y_pred_default = (y_prob > 0.3).astype(int)"
   ]
  },
  {
   "cell_type": "code",
   "execution_count": 19,
   "id": "271b6e0c-8982-4d6a-bfac-75e1462705e5",
   "metadata": {},
   "outputs": [
    {
     "name": "stdout",
     "output_type": "stream",
     "text": [
      "              precision    recall  f1-score   support\n",
      "\n",
      "           0       1.00      0.95      0.97     56864\n",
      "           1       0.03      0.92      0.05        98\n",
      "\n",
      "    accuracy                           0.94     56962\n",
      "   macro avg       0.51      0.93      0.51     56962\n",
      "weighted avg       1.00      0.94      0.97     56962\n",
      "\n",
      "ROC AUC: 0.9785571445798353\n",
      "PR AUC: 0.6865493065868986\n"
     ]
    }
   ],
   "source": [
    "from sklearn.metrics import classification_report, roc_auc_score, average_precision_score\n",
    "\n",
    "print(classification_report(y_test, y_pred_default))\n",
    "print(\"ROC AUC:\", roc_auc_score(y_test, y_prob))\n",
    "print(\"PR AUC:\", average_precision_score(y_test, y_prob))"
   ]
  },
  {
   "cell_type": "code",
   "execution_count": 22,
   "id": "3da695b1-dd1a-44b9-98e1-5af2f657b4ad",
   "metadata": {},
   "outputs": [
    {
     "name": "stdout",
     "output_type": "stream",
     "text": [
      "        y_true    y_prob  y_pred\n",
      "260549       0  0.020424       0\n",
      "207920       0  0.022005       0\n",
      "9890         0  0.111868       0\n",
      "169108       0  0.009085       0\n",
      "240991       0  0.134147       0\n",
      "216605       0  0.016075       0\n",
      "170739       0  0.057379       0\n",
      "146712       0  0.028239       0\n",
      "270298       0  0.108854       0\n",
      "91976        0  0.184660       0\n",
      "109053       0  0.135872       0\n",
      "120232       0  0.068312       0\n",
      "240679       0  0.088868       0\n",
      "197111       0  0.043105       0\n",
      "258617       0  0.039338       0\n",
      "115271       0  0.118311       0\n",
      "10697        0  0.106195       0\n",
      "149485       0  0.019753       0\n",
      "4763         0  0.082657       0\n",
      "2407         0  0.013978       0\n",
      "186654       0  0.046306       0\n",
      "44808        0  0.164087       0\n",
      "40938        0  0.010531       0\n",
      "252178       0  0.021987       0\n",
      "79255        0  0.014979       0\n",
      "134085       0  0.173714       0\n",
      "188613       0  0.018134       0\n",
      "5777         0  0.072969       0\n",
      "146436       0  0.015231       0\n",
      "201670       0  0.065001       0\n",
      "210731       0  0.036123       0\n",
      "222756       0  0.221859       0\n",
      "178998       0  0.208958       0\n",
      "137165       0  0.102386       0\n",
      "39705        0  0.020299       0\n",
      "75296        0  0.056591       0\n",
      "114404       0  0.021693       0\n",
      "160994       0  0.011119       0\n",
      "110489       0  0.065637       0\n",
      "222742       0  0.010603       0\n",
      "275470       0  0.038508       0\n",
      "230411       0  0.345839       1\n",
      "152066       0  0.016584       0\n",
      "69555        0  0.017807       0\n",
      "156307       0  0.013456       0\n",
      "283893       0  0.042482       0\n",
      "248470       0  0.123845       0\n",
      "102259       0  0.133780       0\n",
      "257381       0  0.078026       0\n",
      "43279        0  0.216784       0\n"
     ]
    }
   ],
   "source": [
    "import pandas as pd\n",
    "\n",
    "# Combine predictions and probabilities for a few samples\n",
    "results = pd.DataFrame({\n",
    "    'y_true': y_test,\n",
    "    'y_prob': y_prob,\n",
    "    'y_pred': y_pred_default\n",
    "})\n",
    "print(results.sample(50))"
   ]
  }
 ],
 "metadata": {
  "kernelspec": {
   "display_name": "conda_tensorflow2_p310",
   "language": "python",
   "name": "conda_tensorflow2_p310"
  },
  "language_info": {
   "codemirror_mode": {
    "name": "ipython",
    "version": 3
   },
   "file_extension": ".py",
   "mimetype": "text/x-python",
   "name": "python",
   "nbconvert_exporter": "python",
   "pygments_lexer": "ipython3",
   "version": "3.10.18"
  }
 },
 "nbformat": 4,
 "nbformat_minor": 5
}
